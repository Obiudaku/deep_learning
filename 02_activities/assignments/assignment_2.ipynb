{
 "cells": [
  {
   "cell_type": "markdown",
   "id": "7c6788aef474ca12",
   "metadata": {
    "collapsed": false,
    "id": "7c6788aef474ca12"
   },
   "source": [
    "# Text Generation with Recurrent Neural Networks (RNNs)\n",
    "\n",
    "In this assignment, you'll build upon your understanding of RNNs and Keras to develop a word-level text generation model.  Your goal is to train a model that learns the stylistic nuances of a chosen corpus and generates new, original text segments that echo the source material's essence.\n",
    "\n",
    "**Datasets**\n",
    "\n",
    "We've provided several intriguing text corpora to get you started:\n",
    "\n",
    "*   Mark Twain\n",
    "*   Charles Dickens\n",
    "*   William Shakespeare\n",
    "\n",
    "**Feel free to explore!**  If you have a particular passion for another author, genre, or a specific text, you're encouraged to use your own dataset of raw text."
   ]
  },
  {
   "cell_type": "code",
   "execution_count": 145,
   "id": "2d0bfedcfe52aedc",
   "metadata": {
    "colab": {
     "base_uri": "https://localhost:8080/"
    },
    "id": "2d0bfedcfe52aedc",
    "outputId": "eef898b3-cf85-43d1-9715-30194b9932d3"
   },
   "outputs": [
    {
     "name": "stdout",
     "output_type": "stream",
     "text": [
      "No GPU available. If you're on Colab, go to Runtime > Change runtime and select a GPU hardware accelerator.\n"
     ]
    }
   ],
   "source": [
    "# Check if we have a GPU available\n",
    "import tensorflow as tf\n",
    "if tf.test.gpu_device_name():\n",
    "    print('Default GPU Device: {}'.format(tf.test.gpu_device_name()))\n",
    "else:\n",
    "    print(\"No GPU available. If you're on Colab, go to Runtime > Change runtime and select a GPU hardware accelerator.\")"
   ]
  },
  {
   "cell_type": "code",
   "execution_count": 146,
   "id": "9c28c497f620b775",
   "metadata": {
    "ExecuteTime": {
     "end_time": "2024-02-08T21:30:44.959803Z",
     "start_time": "2024-02-08T21:30:44.701343Z"
    },
    "id": "9c28c497f620b775"
   },
   "outputs": [],
   "source": [
    "def download_file(url, file_path):\n",
    "    import requests\n",
    "    r = requests.get(url)\n",
    "    with open(file_path, 'wb') as f:\n",
    "        f.write(r.content)\n",
    "\n",
    "def load_dataset(file_path, fraction=1.0):\n",
    "    with open(file_path, 'r', encoding='utf-8') as f:\n",
    "        raw_text = f.read()\n",
    "    return raw_text[:int(fraction * len(raw_text))]\n",
    "\n",
    "dataset = 'shakespeare.txt' # Other options are mark_twain.txt, charles_dickens.txt\n",
    "\n",
    "download_file(f'https://github.com/UofT-DSI/deep_learning/raw/main/assignments/downloaded_books/' + dataset, dataset)\n",
    "\n",
    "# Load chosen dataset. NOTE: If Colab is running out of memory, change the `fraction` parameter to a value between 0 and 1 to load less data.\n",
    "text = load_dataset(dataset, fraction=0.1)"
   ]
  },
  {
   "cell_type": "markdown",
   "id": "dab51c764031e606",
   "metadata": {
    "collapsed": false,
    "id": "dab51c764031e606"
   },
   "source": [
    "# 1. Data Preparation (Complete or Incomplete)\n",
    "\n",
    "Before we can begin training an RNN model, we need to prepare the dataset. This involves cleaning the text, tokenizing words, and creating sequences the model can be trained on.\n",
    "\n",
    "## 1.1 Data Exploration\n",
    "\n",
    "Print the first 1000 characters of the dataset. Report the dataset's size and the number of unique characters it contains."
   ]
  },
  {
   "cell_type": "code",
   "execution_count": 147,
   "id": "BunkZmdkl0Wn",
   "metadata": {
    "colab": {
     "base_uri": "https://localhost:8080/"
    },
    "id": "BunkZmdkl0Wn",
    "outputId": "e429a49a-9334-4484-bd6b-2ce40c8298c1"
   },
   "outputs": [
    {
     "name": "stdout",
     "output_type": "stream",
     "text": [
      "First 1000 characters of the dataset:\n",
      "\n",
      "\n",
      "\n",
      "\n",
      "\n",
      "\n",
      "\n",
      "<!DOCTYPE html>\n",
      "<html\n",
      "  lang=\"en\"\n",
      "  \n",
      "  data-color-mode=\"auto\" data-light-theme=\"light\" data-dark-theme=\"dark\"\n",
      "  data-a11y-animated-images=\"system\" data-a11y-link-underlines=\"true\"\n",
      "  \n",
      "  >\n",
      "\n",
      "\n",
      "\n",
      "  <head>\n",
      "    <meta charset=\"utf-8\">\n",
      "  <link rel=\"dns-prefetch\" href=\"https://github.githubassets.com\">\n",
      "  <link rel=\"dns-prefetch\" href=\"https://avatars.githubusercontent.com\">\n",
      "  <link rel=\"dns-prefetch\" href=\"https://github-cloud.s3.amazonaws.com\">\n",
      "  <link rel=\"dns-prefetch\" href=\"https://user-images.githubusercontent.com/\">\n",
      "  <link rel=\"preconnect\" href=\"https://github.githubassets.com\" crossorigin>\n",
      "  <link rel=\"preconnect\" href=\"https://avatars.githubusercontent.com\">\n",
      "\n",
      "      <link rel=\"preload\" href=\"https://github.githubassets.com/assets/global-banner-disable-f988792be49f.js\" as=\"script\" crossorigin>\n",
      "\n",
      "  <link rel=\"preload\" href=\"https://github.githubassets.com/assets/mona-sans-d1bf285e9b9b.woff2\" as=\"font\" type=\"font/woff2\" crossorigin>\n",
      "\n",
      "\n",
      "  <link crossorigin=\"anonymous\" media=\"all\" rel=\"st\n",
      "Dataset size (characters): 27204\n",
      "Number of unique characters: 88\n"
     ]
    }
   ],
   "source": [
    "# Load the dataset and explore its contents\n",
    "text = load_dataset(dataset, fraction=0.1)\n",
    "print(\"First 1000 characters of the dataset:\")\n",
    "print(text[:1000])\n",
    "\n",
    "# Dataset size\n",
    "dataset_size = len(text)\n",
    "print(f\"Dataset size (characters): {dataset_size}\")\n",
    "\n",
    "# Number of unique characters\n",
    "unique_chars = set(text)\n",
    "print(f\"Number of unique characters: {len(unique_chars)}\")\n"
   ]
  },
  {
   "cell_type": "markdown",
   "id": "3ae1639f5ecfe587",
   "metadata": {
    "collapsed": false,
    "id": "3ae1639f5ecfe587"
   },
   "source": [
    "## 1.2 Text Pre-Processing\n",
    "\n",
    "To prepare the dataset for training, we need to clean the text and create a numerical representation the model can interpret. Perform the following pre-processing steps:\n",
    "\n",
    "*   Convert the entire text to lowercase.\n",
    "*   Use the `Tokenizer` class from the `keras.preprocessing.text` module to tokenize the text. You should fit the tokenizer on the text and then convert the text to a sequence of numbers. You can use the `texts_to_sequences` method to do this.\n",
    "\n",
    "**Note**:\n",
    "* You'll need to specify an appropriate size for the vocabulary. The number of words in the list of most common words can serve as a guide - does it seem like a reasonable vocabulary size?\n",
    "* Some of the words will be excluded from the vocabulary, as they don't appear often enough. It's important to provide a value for `oov_token` when creating the Tokenizer instance, so that these words can be represented as \"unknown\"."
   ]
  },
  {
   "cell_type": "code",
   "execution_count": 148,
   "id": "4d0d30cd98ea453c",
   "metadata": {
    "id": "4d0d30cd98ea453c"
   },
   "outputs": [],
   "source": [
    "\n",
    "# Your code here\n",
    "from tensorflow.keras.preprocessing.text import Tokenizer\n",
    "\n",
    "# Preprocess the text\n",
    "text = text.lower()  # Convert to lowercase\n",
    "\n",
    "# Define vocabulary size and OOV token\n",
    "VOCAB_SIZE = 50  # You can adjust this based on dataset size\n",
    "OOV_TOKEN = \"<OOV>\"\n",
    "\n",
    "# Initialize and fit tokenizer\n",
    "tokenizer = Tokenizer(num_words=VOCAB_SIZE, oov_token=OOV_TOKEN)\n",
    "tokenizer.fit_on_texts([text])\n",
    "\n",
    "# Convert the text to sequences\n",
    "sequences = tokenizer.texts_to_sequences([text])[0]"
   ]
  },
  {
   "cell_type": "markdown",
   "id": "89d32bb9356f711",
   "metadata": {
    "collapsed": false,
    "id": "89d32bb9356f711"
   },
   "source": [
    "If everything worked, the following line should show you the first 10 words in the vocabulary:"
   ]
  },
  {
   "cell_type": "code",
   "execution_count": 149,
   "id": "6a7cd547a19feece",
   "metadata": {
    "colab": {
     "base_uri": "https://localhost:8080/"
    },
    "id": "6a7cd547a19feece",
    "outputId": "1f52c24c-fe9d-4074-a6b9-2be1b36a172e"
   },
   "outputs": [
    {
     "name": "stdout",
     "output_type": "stream",
     "text": [
      "[('<OOV>', 1), ('github', 2), ('com', 3), ('script', 4), ('https', 5), ('1', 6), ('defer', 7), ('js', 8), ('assets', 9), ('githubassets', 10)]\n"
     ]
    }
   ],
   "source": [
    "try:\n",
    "    print(list(tokenizer.word_index.items())[:10])\n",
    "except AttributeError:\n",
    "    print(\"Tokenizer has not been initialized. Possible issue: Complete the relevant section of the assignment to initialize it.\"\n",
    ")\n"
   ]
  },
  {
   "cell_type": "markdown",
   "id": "da504e4bc6617613",
   "metadata": {
    "collapsed": false,
    "id": "da504e4bc6617613"
   },
   "source": [
    "## 1.3 Sequence Generation\n",
    "\n",
    "Now that the text has been tokenized, we need to create sequences the model can be trained on. There are two parts to this:\n",
    "\n",
    "*   Use the `texts_to_sequences` method from the tokenizer to convert the text to a list of sequences of numbers.\n",
    "*   Generate the training sequences. Each training sequence should contain `SEQ_LENGTH` token IDs from the text. The target token for each sequence should be the word that follows the sequence in the text."
   ]
  },
  {
   "cell_type": "code",
   "execution_count": 166,
   "id": "4ff5fc8d0273709c",
   "metadata": {
    "id": "4ff5fc8d0273709c"
   },
   "outputs": [],
   "source": [
    "\n",
    "# Convert the text to a list of sequences of numbers\n",
    "sequences = tokenizer.texts_to_sequences([text_lower])[0]\n",
    "\n",
    "# Generate the training sequences\n",
    "X = []\n",
    "y = []\n",
    "\n",
    "for i in range(len(sequences) - SEQ_LENGTH):\n",
    "    X.append(sequences[i:i + SEQ_LENGTH])\n",
    "    y.append(sequences[i + SEQ_LENGTH])\n",
    "\n",
    "# Convert to numpy arrays for efficiency\n",
    "import numpy as np\n",
    "X = np.array(X)\n",
    "y = np.array(y)\n"
   ]
  },
  {
   "cell_type": "markdown",
   "id": "3b6bdc0deb930df1",
   "metadata": {
    "collapsed": false,
    "id": "3b6bdc0deb930df1"
   },
   "source": [
    "Assuming your sequences are stored in `X` and the corresponding targets in `y`, the following line should print the first training sequence and its target:"
   ]
  },
  {
   "cell_type": "code",
   "execution_count": 151,
   "id": "a495cab04001ce92",
   "metadata": {
    "colab": {
     "base_uri": "https://localhost:8080/"
    },
    "id": "a495cab04001ce92",
    "outputId": "ecc2c1f4-81d5-4edb-ba86-8c53f86df70b"
   },
   "outputs": [
    {
     "name": "stdout",
     "output_type": "stream",
     "text": [
      "Sequence: [ 1  1  1  1  1 17 38  1  1 17  1  1  1 17  1  1  1 17  1  1  1  1 17  1\n",
      " 20  1 43  1 16  1  1  1 20 29  1  1 26  5  2 10  3 20 29  1  1 26  5  1\n",
      "  1  3]\n",
      "Target: 20\n",
      "Translated back to words: ['<OOV>', '<OOV>', '<OOV>', '<OOV>', '<OOV>', 'data', 'color', '<OOV>', '<OOV>', 'data', '<OOV>', '<OOV>', '<OOV>', 'data', '<OOV>', '<OOV>', '<OOV>', 'data', '<OOV>', '<OOV>', '<OOV>', '<OOV>', 'data', '<OOV>', 'link', '<OOV>', 'true', '<OOV>', 'meta', '<OOV>', '<OOV>', '<OOV>', 'link', 'rel', '<OOV>', '<OOV>', 'href', 'https', 'github', 'githubassets', 'com', 'link', 'rel', '<OOV>', '<OOV>', 'href', 'https', '<OOV>', '<OOV>', 'com'] -> link\n"
     ]
    }
   ],
   "source": [
    "if len(X) > 0 and len(y) > 0:\n",
    "    print(f'Sequence: {X[0]}\\nTarget: {y[0]}')\n",
    "    print(f'Translated back to words: {[tokenizer.index_word[i] for i in X[0]]} -> {tokenizer.index_word[y[0]]}')\n",
    "else:\n",
    "    print(\"Training sequences have not been generated. Possible issue: Complete the relevant section of the assignment to initialize it.\")\n"
   ]
  },
  {
   "cell_type": "markdown",
   "id": "d5bb2c55da17aaa0",
   "metadata": {
    "collapsed": false,
    "id": "d5bb2c55da17aaa0"
   },
   "source": [
    "And the following code will transform y into a one-hot encoded matrix, and split everything into training and validation sets:"
   ]
  },
  {
   "cell_type": "code",
   "execution_count": 152,
   "id": "3a929b2e6c2cc921",
   "metadata": {
    "colab": {
     "base_uri": "https://localhost:8080/"
    },
    "id": "3a929b2e6c2cc921",
    "outputId": "bbac2f5d-5ec3-40d0-fdd7-c567088569d7"
   },
   "outputs": [
    {
     "name": "stdout",
     "output_type": "stream",
     "text": [
      "X_train shape: (1704, 50)\n",
      "y_train shape: (1704, 50)\n"
     ]
    }
   ],
   "source": [
    "from sklearn.model_selection import train_test_split\n",
    "from keras.utils import to_categorical\n",
    "import numpy as np\n",
    "\n",
    "# Ensure that tokenizer has been initialized\n",
    "if tokenizer is not None:\n",
    "    # Convert X and y to numpy arrays\n",
    "    X = np.array(X)\n",
    "    y = np.array(y)\n",
    "\n",
    "    # One last thing: let's drop any examples where the target is the OOV token - we don't want our model to predict that (boring!)\n",
    "    if OOV_TOKEN in tokenizer.word_index:\n",
    "        mask = y != tokenizer.word_index[OOV_TOKEN]\n",
    "        X = X[mask]\n",
    "        y = y[mask]\n",
    "\n",
    "    # One-hot encode the target token\n",
    "    y = to_categorical(y, num_classes=VOCAB_SIZE)\n",
    "\n",
    "    # Split the data into training and validation sets\n",
    "    X_train, X_val, y_train, y_val = train_test_split(X, y, test_size=0.2, random_state=42)\n",
    "\n",
    "    print(f'X_train shape: {X_train.shape}')\n",
    "    print(f'y_train shape: {y_train.shape}')\n",
    "else:\n",
    "    print(\"Tokenizer has not been initialized. Please initialize it and load the vocabulary before continuing.\")\n"
   ]
  },
  {
   "cell_type": "markdown",
   "id": "b6e4161897210434",
   "metadata": {
    "collapsed": false,
    "id": "b6e4161897210434"
   },
   "source": [
    "# 2. Model Development (Complete or Incomplete)\n",
    "\n",
    "With the dataset prepared, it's time to develop the RNN model. You'll need to define the architecture of the model, compile it, and prepare it for training.\n",
    "\n",
    "## 2.1 Model Architecture\n",
    "\n",
    "Define the architecture of your RNN model. You can design it however you like, but there are a few features that it's important to include:\n",
    "\n",
    "*   An embedding layer that learns a dense representation of the input tokens. You'll need to specify the input dimension (the size of the vocabulary) and the output dimension (the size of the dense representation). Remember, you can look at the documentation [here](https://keras.io/api/layers/core_layers/embedding/).\n",
    "*   At least one recurrent layer. We have learned how to use LSTM layers in class, but you can use other types of recurrent layers if you prefer. You can find the documentation [here](https://keras.io/api/layers/recurrent_layers/lstm/).\n",
    "*   A dense layer with a softmax activation function. This layer will output a probability distribution over the vocabulary, so that the model can make predictions about the next token."
   ]
  },
  {
   "cell_type": "code",
   "execution_count": 153,
   "id": "9fdfaad93818fc8d",
   "metadata": {
    "colab": {
     "base_uri": "https://localhost:8080/"
    },
    "id": "9fdfaad93818fc8d",
    "outputId": "ae02a273-ab37-4274-d41c-b2c0c80350d6"
   },
   "outputs": [
    {
     "name": "stderr",
     "output_type": "stream",
     "text": [
      "c:\\Users\\user\\miniconda3\\envs\\dsi_participant\\lib\\site-packages\\keras\\src\\layers\\rnn\\rnn.py:204: UserWarning: Do not pass an `input_shape`/`input_dim` argument to a layer. When using Sequential models, prefer using an `Input(shape)` object as the first layer in the model instead.\n",
      "  super().__init__(**kwargs)\n"
     ]
    },
    {
     "data": {
      "text/html": [
       "<pre style=\"white-space:pre;overflow-x:auto;line-height:normal;font-family:Menlo,'DejaVu Sans Mono',consolas,'Courier New',monospace\"><span style=\"font-weight: bold\">Model: \"sequential_14\"</span>\n",
       "</pre>\n"
      ],
      "text/plain": [
       "\u001b[1mModel: \"sequential_14\"\u001b[0m\n"
      ]
     },
     "metadata": {},
     "output_type": "display_data"
    },
    {
     "data": {
      "text/html": [
       "<pre style=\"white-space:pre;overflow-x:auto;line-height:normal;font-family:Menlo,'DejaVu Sans Mono',consolas,'Courier New',monospace\">┏━━━━━━━━━━━━━━━━━━━━━━━━━━━━━━━━━┳━━━━━━━━━━━━━━━━━━━━━━━━┳━━━━━━━━━━━━━━━┓\n",
       "┃<span style=\"font-weight: bold\"> Layer (type)                    </span>┃<span style=\"font-weight: bold\"> Output Shape           </span>┃<span style=\"font-weight: bold\">       Param # </span>┃\n",
       "┡━━━━━━━━━━━━━━━━━━━━━━━━━━━━━━━━━╇━━━━━━━━━━━━━━━━━━━━━━━━╇━━━━━━━━━━━━━━━┩\n",
       "│ embedding_14 (<span style=\"color: #0087ff; text-decoration-color: #0087ff\">Embedding</span>)        │ ?                      │   <span style=\"color: #00af00; text-decoration-color: #00af00\">0</span> (unbuilt) │\n",
       "├─────────────────────────────────┼────────────────────────┼───────────────┤\n",
       "│ lstm_27 (<span style=\"color: #0087ff; text-decoration-color: #0087ff\">LSTM</span>)                  │ ?                      │   <span style=\"color: #00af00; text-decoration-color: #00af00\">0</span> (unbuilt) │\n",
       "├─────────────────────────────────┼────────────────────────┼───────────────┤\n",
       "│ lstm_28 (<span style=\"color: #0087ff; text-decoration-color: #0087ff\">LSTM</span>)                  │ ?                      │   <span style=\"color: #00af00; text-decoration-color: #00af00\">0</span> (unbuilt) │\n",
       "├─────────────────────────────────┼────────────────────────┼───────────────┤\n",
       "│ dense_14 (<span style=\"color: #0087ff; text-decoration-color: #0087ff\">Dense</span>)                │ ?                      │   <span style=\"color: #00af00; text-decoration-color: #00af00\">0</span> (unbuilt) │\n",
       "└─────────────────────────────────┴────────────────────────┴───────────────┘\n",
       "</pre>\n"
      ],
      "text/plain": [
       "┏━━━━━━━━━━━━━━━━━━━━━━━━━━━━━━━━━┳━━━━━━━━━━━━━━━━━━━━━━━━┳━━━━━━━━━━━━━━━┓\n",
       "┃\u001b[1m \u001b[0m\u001b[1mLayer (type)                   \u001b[0m\u001b[1m \u001b[0m┃\u001b[1m \u001b[0m\u001b[1mOutput Shape          \u001b[0m\u001b[1m \u001b[0m┃\u001b[1m \u001b[0m\u001b[1m      Param #\u001b[0m\u001b[1m \u001b[0m┃\n",
       "┡━━━━━━━━━━━━━━━━━━━━━━━━━━━━━━━━━╇━━━━━━━━━━━━━━━━━━━━━━━━╇━━━━━━━━━━━━━━━┩\n",
       "│ embedding_14 (\u001b[38;5;33mEmbedding\u001b[0m)        │ ?                      │   \u001b[38;5;34m0\u001b[0m (unbuilt) │\n",
       "├─────────────────────────────────┼────────────────────────┼───────────────┤\n",
       "│ lstm_27 (\u001b[38;5;33mLSTM\u001b[0m)                  │ ?                      │   \u001b[38;5;34m0\u001b[0m (unbuilt) │\n",
       "├─────────────────────────────────┼────────────────────────┼───────────────┤\n",
       "│ lstm_28 (\u001b[38;5;33mLSTM\u001b[0m)                  │ ?                      │   \u001b[38;5;34m0\u001b[0m (unbuilt) │\n",
       "├─────────────────────────────────┼────────────────────────┼───────────────┤\n",
       "│ dense_14 (\u001b[38;5;33mDense\u001b[0m)                │ ?                      │   \u001b[38;5;34m0\u001b[0m (unbuilt) │\n",
       "└─────────────────────────────────┴────────────────────────┴───────────────┘\n"
      ]
     },
     "metadata": {},
     "output_type": "display_data"
    },
    {
     "data": {
      "text/html": [
       "<pre style=\"white-space:pre;overflow-x:auto;line-height:normal;font-family:Menlo,'DejaVu Sans Mono',consolas,'Courier New',monospace\"><span style=\"font-weight: bold\"> Total params: </span><span style=\"color: #00af00; text-decoration-color: #00af00\">0</span> (0.00 B)\n",
       "</pre>\n"
      ],
      "text/plain": [
       "\u001b[1m Total params: \u001b[0m\u001b[38;5;34m0\u001b[0m (0.00 B)\n"
      ]
     },
     "metadata": {},
     "output_type": "display_data"
    },
    {
     "data": {
      "text/html": [
       "<pre style=\"white-space:pre;overflow-x:auto;line-height:normal;font-family:Menlo,'DejaVu Sans Mono',consolas,'Courier New',monospace\"><span style=\"font-weight: bold\"> Trainable params: </span><span style=\"color: #00af00; text-decoration-color: #00af00\">0</span> (0.00 B)\n",
       "</pre>\n"
      ],
      "text/plain": [
       "\u001b[1m Trainable params: \u001b[0m\u001b[38;5;34m0\u001b[0m (0.00 B)\n"
      ]
     },
     "metadata": {},
     "output_type": "display_data"
    },
    {
     "data": {
      "text/html": [
       "<pre style=\"white-space:pre;overflow-x:auto;line-height:normal;font-family:Menlo,'DejaVu Sans Mono',consolas,'Courier New',monospace\"><span style=\"font-weight: bold\"> Non-trainable params: </span><span style=\"color: #00af00; text-decoration-color: #00af00\">0</span> (0.00 B)\n",
       "</pre>\n"
      ],
      "text/plain": [
       "\u001b[1m Non-trainable params: \u001b[0m\u001b[38;5;34m0\u001b[0m (0.00 B)\n"
      ]
     },
     "metadata": {},
     "output_type": "display_data"
    }
   ],
   "source": [
    "from keras.models import Sequential\n",
    "from keras.layers import Embedding, LSTM, Dense\n",
    "\n",
    "\n",
    "\n",
    "model = Sequential([\n",
    "    Embedding(input_dim=VOCAB_SIZE, output_dim=1, input_length=SEQ_LENGTH),\n",
    "    LSTM(units=128, input_shape=(X_train.shape[1]), return_sequences=False),\n",
    "    LSTM(units=128),\n",
    "    Dense(VOCAB_SIZE, activation='sigmoid')\n",
    "])\n",
    "\n",
    "# Check if the model has layers before trying to print the summary\n",
    "if len(model.layers) > 0:\n",
    "    model.summary()\n",
    "else:\n",
    "    print(\"No layers have been added to the model. Please complete the assignment by adding the required layers.\")"
   ]
  },
  {
   "cell_type": "markdown",
   "id": "2fafd2dbb0d589fc",
   "metadata": {
    "collapsed": false,
    "id": "2fafd2dbb0d589fc"
   },
   "source": [
    "## 2.2 Model Compilation\n",
    "\n",
    "Compile the model with an appropriate loss function and optimizer. You might also want to track additional metrics, such as accuracy.\n",
    "\n",
    "Give a short explanation of your choice of loss function and optimizer:\n",
    "\n",
    "_your explanation here_"
   ]
  },
  {
   "cell_type": "markdown",
   "id": "ff655d1b",
   "metadata": {},
   "source": [
    "Loss Function: categorical_crossentropy is used for multi-class classification.\n",
    "\n",
    "Optimizer: adam is chosen for its efficiency and adaptive learning rate.\n",
    "\n"
   ]
  },
  {
   "cell_type": "code",
   "execution_count": 159,
   "id": "ae4ca7a12051b1fd",
   "metadata": {
    "id": "ae4ca7a12051b1fd"
   },
   "outputs": [],
   "source": [
    "# Your code here\n",
    "from tensorflow.keras.optimizers import Adam\n",
    "\n",
    "# Compile the model\n",
    "model.compile(loss='categorical_crossentropy', optimizer='adam', metrics=['accuracy'])\n",
    "\n"
   ]
  },
  {
   "cell_type": "markdown",
   "id": "c2f0b90a448c4f4b",
   "metadata": {
    "collapsed": false,
    "id": "c2f0b90a448c4f4b"
   },
   "source": [
    "## 2.3 Model Training\n",
    "\n",
    "Train the model on the training data you've prepared.\n",
    "\n",
    "* Train your model for 5 epochs with a batch size of 128. Use the validation data for validation.\n",
    "* Store the training history in a variable called `history`."
   ]
  },
  {
   "cell_type": "code",
   "execution_count": 155,
   "id": "1280f7a7",
   "metadata": {},
   "outputs": [],
   "source": [
    "X_train = X_train.reshape((X_train.shape[0], X_train.shape[1]))\n",
    "X_val = X_val.reshape((X_val.shape[0], X_val.shape[1]))\n"
   ]
  },
  {
   "cell_type": "code",
   "execution_count": 156,
   "id": "7732ae84",
   "metadata": {},
   "outputs": [
    {
     "name": "stdout",
     "output_type": "stream",
     "text": [
      "Shape of X_train: (1704, 50)\n",
      "Shape of y_train: (1704, 50)\n"
     ]
    }
   ],
   "source": [
    "print(f\"Shape of X_train: {X_train.shape}\")  # Should be (num_samples, SEQ_LENGTH)\n",
    "print(f\"Shape of y_train: {y_train.shape}\")  # Should be one-hot encoded, e.g., (num_samples, VOCAB_SIZE)\n"
   ]
  },
  {
   "cell_type": "code",
   "execution_count": 157,
   "id": "e1235e77",
   "metadata": {},
   "outputs": [
    {
     "data": {
      "text/html": [
       "<pre style=\"white-space:pre;overflow-x:auto;line-height:normal;font-family:Menlo,'DejaVu Sans Mono',consolas,'Courier New',monospace\"><span style=\"font-weight: bold\">Model: \"sequential_15\"</span>\n",
       "</pre>\n"
      ],
      "text/plain": [
       "\u001b[1mModel: \"sequential_15\"\u001b[0m\n"
      ]
     },
     "metadata": {},
     "output_type": "display_data"
    },
    {
     "data": {
      "text/html": [
       "<pre style=\"white-space:pre;overflow-x:auto;line-height:normal;font-family:Menlo,'DejaVu Sans Mono',consolas,'Courier New',monospace\">┏━━━━━━━━━━━━━━━━━━━━━━━━━━━━━━━━━┳━━━━━━━━━━━━━━━━━━━━━━━━┳━━━━━━━━━━━━━━━┓\n",
       "┃<span style=\"font-weight: bold\"> Layer (type)                    </span>┃<span style=\"font-weight: bold\"> Output Shape           </span>┃<span style=\"font-weight: bold\">       Param # </span>┃\n",
       "┡━━━━━━━━━━━━━━━━━━━━━━━━━━━━━━━━━╇━━━━━━━━━━━━━━━━━━━━━━━━╇━━━━━━━━━━━━━━━┩\n",
       "│ embedding_15 (<span style=\"color: #0087ff; text-decoration-color: #0087ff\">Embedding</span>)        │ ?                      │   <span style=\"color: #00af00; text-decoration-color: #00af00\">0</span> (unbuilt) │\n",
       "├─────────────────────────────────┼────────────────────────┼───────────────┤\n",
       "│ lstm_29 (<span style=\"color: #0087ff; text-decoration-color: #0087ff\">LSTM</span>)                  │ ?                      │   <span style=\"color: #00af00; text-decoration-color: #00af00\">0</span> (unbuilt) │\n",
       "├─────────────────────────────────┼────────────────────────┼───────────────┤\n",
       "│ dense_15 (<span style=\"color: #0087ff; text-decoration-color: #0087ff\">Dense</span>)                │ ?                      │   <span style=\"color: #00af00; text-decoration-color: #00af00\">0</span> (unbuilt) │\n",
       "└─────────────────────────────────┴────────────────────────┴───────────────┘\n",
       "</pre>\n"
      ],
      "text/plain": [
       "┏━━━━━━━━━━━━━━━━━━━━━━━━━━━━━━━━━┳━━━━━━━━━━━━━━━━━━━━━━━━┳━━━━━━━━━━━━━━━┓\n",
       "┃\u001b[1m \u001b[0m\u001b[1mLayer (type)                   \u001b[0m\u001b[1m \u001b[0m┃\u001b[1m \u001b[0m\u001b[1mOutput Shape          \u001b[0m\u001b[1m \u001b[0m┃\u001b[1m \u001b[0m\u001b[1m      Param #\u001b[0m\u001b[1m \u001b[0m┃\n",
       "┡━━━━━━━━━━━━━━━━━━━━━━━━━━━━━━━━━╇━━━━━━━━━━━━━━━━━━━━━━━━╇━━━━━━━━━━━━━━━┩\n",
       "│ embedding_15 (\u001b[38;5;33mEmbedding\u001b[0m)        │ ?                      │   \u001b[38;5;34m0\u001b[0m (unbuilt) │\n",
       "├─────────────────────────────────┼────────────────────────┼───────────────┤\n",
       "│ lstm_29 (\u001b[38;5;33mLSTM\u001b[0m)                  │ ?                      │   \u001b[38;5;34m0\u001b[0m (unbuilt) │\n",
       "├─────────────────────────────────┼────────────────────────┼───────────────┤\n",
       "│ dense_15 (\u001b[38;5;33mDense\u001b[0m)                │ ?                      │   \u001b[38;5;34m0\u001b[0m (unbuilt) │\n",
       "└─────────────────────────────────┴────────────────────────┴───────────────┘\n"
      ]
     },
     "metadata": {},
     "output_type": "display_data"
    },
    {
     "data": {
      "text/html": [
       "<pre style=\"white-space:pre;overflow-x:auto;line-height:normal;font-family:Menlo,'DejaVu Sans Mono',consolas,'Courier New',monospace\"><span style=\"font-weight: bold\"> Total params: </span><span style=\"color: #00af00; text-decoration-color: #00af00\">0</span> (0.00 B)\n",
       "</pre>\n"
      ],
      "text/plain": [
       "\u001b[1m Total params: \u001b[0m\u001b[38;5;34m0\u001b[0m (0.00 B)\n"
      ]
     },
     "metadata": {},
     "output_type": "display_data"
    },
    {
     "data": {
      "text/html": [
       "<pre style=\"white-space:pre;overflow-x:auto;line-height:normal;font-family:Menlo,'DejaVu Sans Mono',consolas,'Courier New',monospace\"><span style=\"font-weight: bold\"> Trainable params: </span><span style=\"color: #00af00; text-decoration-color: #00af00\">0</span> (0.00 B)\n",
       "</pre>\n"
      ],
      "text/plain": [
       "\u001b[1m Trainable params: \u001b[0m\u001b[38;5;34m0\u001b[0m (0.00 B)\n"
      ]
     },
     "metadata": {},
     "output_type": "display_data"
    },
    {
     "data": {
      "text/html": [
       "<pre style=\"white-space:pre;overflow-x:auto;line-height:normal;font-family:Menlo,'DejaVu Sans Mono',consolas,'Courier New',monospace\"><span style=\"font-weight: bold\"> Non-trainable params: </span><span style=\"color: #00af00; text-decoration-color: #00af00\">0</span> (0.00 B)\n",
       "</pre>\n"
      ],
      "text/plain": [
       "\u001b[1m Non-trainable params: \u001b[0m\u001b[38;5;34m0\u001b[0m (0.00 B)\n"
      ]
     },
     "metadata": {},
     "output_type": "display_data"
    }
   ],
   "source": [
    "from keras.models import Sequential\n",
    "from keras.layers import Embedding, LSTM, Dense\n",
    "\n",
    "model = Sequential([\n",
    "    Embedding(input_dim=VOCAB_SIZE, output_dim=128, input_length=SEQ_LENGTH),\n",
    "    LSTM(256, return_sequences=False),\n",
    "    Dense(VOCAB_SIZE, activation='softmax')\n",
    "])\n",
    "\n",
    "model.summary()\n"
   ]
  },
  {
   "cell_type": "code",
   "execution_count": 160,
   "id": "ad037090",
   "metadata": {},
   "outputs": [
    {
     "name": "stdout",
     "output_type": "stream",
     "text": [
      "Epoch 1/5\n",
      "\u001b[1m14/14\u001b[0m \u001b[32m━━━━━━━━━━━━━━━━━━━━\u001b[0m\u001b[37m\u001b[0m \u001b[1m10s\u001b[0m 394ms/step - accuracy: 0.0858 - loss: 3.8481 - val_accuracy: 0.0656 - val_loss: 3.6295\n",
      "Epoch 2/5\n",
      "\u001b[1m14/14\u001b[0m \u001b[32m━━━━━━━━━━━━━━━━━━━━\u001b[0m\u001b[37m\u001b[0m \u001b[1m5s\u001b[0m 343ms/step - accuracy: 0.1167 - loss: 3.4718 - val_accuracy: 0.1358 - val_loss: 3.0618\n",
      "Epoch 3/5\n",
      "\u001b[1m14/14\u001b[0m \u001b[32m━━━━━━━━━━━━━━━━━━━━\u001b[0m\u001b[37m\u001b[0m \u001b[1m5s\u001b[0m 338ms/step - accuracy: 0.2093 - loss: 2.8791 - val_accuracy: 0.3208 - val_loss: 2.5481\n",
      "Epoch 4/5\n",
      "\u001b[1m14/14\u001b[0m \u001b[32m━━━━━━━━━━━━━━━━━━━━\u001b[0m\u001b[37m\u001b[0m \u001b[1m5s\u001b[0m 340ms/step - accuracy: 0.3336 - loss: 2.3408 - val_accuracy: 0.3724 - val_loss: 2.1916\n",
      "Epoch 5/5\n",
      "\u001b[1m14/14\u001b[0m \u001b[32m━━━━━━━━━━━━━━━━━━━━\u001b[0m\u001b[37m\u001b[0m \u001b[1m5s\u001b[0m 334ms/step - accuracy: 0.4212 - loss: 2.0429 - val_accuracy: 0.4262 - val_loss: 1.9518\n"
     ]
    }
   ],
   "source": [
    "history = model.fit(\n",
    "    X_train, y_train,\n",
    "    validation_data=(X_val, y_val),\n",
    "    epochs=5,\n",
    "    batch_size=128\n",
    ")\n"
   ]
  },
  {
   "cell_type": "markdown",
   "id": "195c59bf80d2a2c4",
   "metadata": {
    "collapsed": false
   },
   "source": [
    "Plot the training history to visualize the model's learning progress. Your plot should include the training and validation loss."
   ]
  },
  {
   "cell_type": "code",
   "execution_count": 161,
   "id": "9e8cacec70d8f313",
   "metadata": {
    "id": "9e8cacec70d8f313"
   },
   "outputs": [
    {
     "data": {
      "image/png": "[encoded data removed]",
      "text/plain": [
       "<Figure size 640x480 with 1 Axes>"
      ]
     },
     "metadata": {},
     "output_type": "display_data"
    }
   ],
   "source": [
    "import matplotlib.pyplot as plt\n",
    "\n",
    "plt.plot(history.history['loss'], label='Training Loss')\n",
    "plt.plot(history.history['val_loss'], label='Validation Loss')\n",
    "plt.xlabel('Epochs')\n",
    "plt.ylabel('Loss')\n",
    "plt.legend()\n",
    "plt.title('Model Training History')\n",
    "plt.show()"
   ]
  },
  {
   "cell_type": "markdown",
   "id": "3d9ed71305787aed",
   "metadata": {
    "collapsed": false
   },
   "source": [
    "# 3. Text Generation (Complete or Incomplete)\n",
    "\n",
    "Write a method called `generate_text` that uses the trained model to generate new text. The method should take the following parameters:\n",
    "\n",
    "*   `model`: The trained RNN model.\n",
    "*   `tokenizer`: The tokenizer used to pre-process the text data.\n",
    "*   `seed_text`: The seed text the model will use to generate new text.\n",
    "*   `max_sequence_len`: The maximum length of the sequence used to generate new text.\n",
    "\n",
    "The method should return the generated text.\n",
    "\n",
    "An overview of the text generation process you should follow:\n",
    "\n",
    "1. Tokenize the seed text using the tokenizer we built before.\n",
    "2. Pad the sequences to the same length as the training sequences - you can use the `pad_sequences` method from the `keras.preprocessing.sequence` module, which is documented [here](https://www.tensorflow.org/api_docs/python/tf/keras/preprocessing/sequence/pad_sequences).\n",
    "3. Use the model to predict the next token in the sequence. Remember that the model will output a probability distribution over the vocabulary, so you'll need to use `np.argmax` to find the token with the highest probability.\n",
    "4. Add the predicted token to the sequence and remove the first token.\n",
    "5. Repeat steps 3-4 until you have generated the desired number of tokens.\n",
    "6. Convert the generated token IDs back to words and return the combined result as a single string.\n",
    "\n",
    "This is a challenging task, so don't hesitate to ask for help if you need it. It's okay if the generated text doesn't make much sense yet - we'll work on improving the model next.\n",
    "As a bonus, you can make your method generate \"gpt-style\" by having it print out each word as it's generated, so you can see the text being generated in real time."
   ]
  },
  {
   "cell_type": "code",
   "execution_count": 162,
   "id": "d73dbf278a1265ef",
   "metadata": {
    "collapsed": false
   },
   "outputs": [],
   "source": [
    "from keras.preprocessing.sequence import pad_sequences\n",
    "import numpy as np\n",
    "\n",
    "def get_predicted_word(model, sequence, temperature=1.0):\n",
    "    \"\"\"\n",
    "    Get the predicted word from the model with a specified temperature for randomness.\n",
    "\n",
    "    Args:\n",
    "        model: The trained RNN model.\n",
    "        sequence: The input sequence for prediction.\n",
    "        temperature: A float value to control randomness (default is 1.0).\n",
    "    \n",
    "    Returns:\n",
    "        The index of the predicted word.\n",
    "    \"\"\"\n",
    "    # Use the model to predict the next token probabilities\n",
    "    predictions = model.predict(sequence, verbose=0)[0]\n",
    "    \n",
    "    # Apply temperature for randomness\n",
    "    predictions = np.log(predictions + 1e-8) / temperature\n",
    "    exp_predictions = np.exp(predictions)\n",
    "    probabilities = exp_predictions / np.sum(exp_predictions)\n",
    "    \n",
    "    # Sample the next token based on the probability distribution\n",
    "    predicted_index = np.random.choice(len(probabilities), p=probabilities)\n",
    "    return predicted_index\n",
    "\n",
    "def generate_text(model, tokenizer, seed_text, max_sequence_len, num_words=50, temperature=1.0):\n",
    "    \"\"\"\n",
    "    Generate new text using the trained model.\n",
    "\n",
    "    Args:\n",
    "        model: The trained RNN model.\n",
    "        tokenizer: The tokenizer used to pre-process the text data.\n",
    "        seed_text: The seed text the model will use to generate new text.\n",
    "        max_sequence_len: The maximum length of the sequence used in training.\n",
    "        num_words: The number of words to generate (default is 50).\n",
    "        temperature: A float value to control randomness (default is 1.0).\n",
    "    \n",
    "    Returns:\n",
    "        The generated text as a single string.\n",
    "    \"\"\"\n",
    "    result = seed_text\n",
    "\n",
    "    for _ in range(num_words):\n",
    "        # Tokenize and pad the current sequence\n",
    "        tokenized_sequence = tokenizer.texts_to_sequences([seed_text])[0]\n",
    "        tokenized_sequence = pad_sequences([tokenized_sequence], maxlen=max_sequence_len, padding='pre')\n",
    "\n",
    "        # Predict the next word\n",
    "        predicted_index = get_predicted_word(model, tokenized_sequence, temperature)\n",
    "        \n",
    "        # Convert the predicted index back to a word\n",
    "        predicted_word = tokenizer.index_word.get(predicted_index, '')\n",
    "\n",
    "        # Append the predicted word to the result\n",
    "        result += ' ' + predicted_word\n",
    "\n",
    "        # Update the seed text with the new word\n",
    "        seed_text += ' ' + predicted_word\n",
    "        seed_text = ' '.join(seed_text.split()[-max_sequence_len:])  # Keep only the last max_sequence_len words\n",
    "\n",
    "    return result\n"
   ]
  },
  {
   "cell_type": "code",
   "execution_count": 163,
   "id": "f463b0c3df49e2c",
   "metadata": {
    "collapsed": false
   },
   "outputs": [
    {
     "data": {
      "text/plain": [
       "'hamlet stylesheet com github anonymous https defer crossorigin rel https githubassets githubassets githubassets assets github assets css anonymous index crossorigin crossorigin all application media stylesheet https https github com com assets https github github og github modules index assets node dist color crossorigin all media turbo all anonymous all rel github'"
      ]
     },
     "execution_count": 163,
     "metadata": {},
     "output_type": "execute_result"
    }
   ],
   "source": [
    "# Test the text generation function\n",
    "generate_text(model, tokenizer, 'hamlet', SEQ_LENGTH)"
   ]
  },
  {
   "cell_type": "markdown",
   "id": "5871d836a0135c41",
   "metadata": {
    "collapsed": false
   },
   "source": [
    "It's likely that the text generated by your model doesn't make much sense yet. This is because the model hasn't been trained for very long, and the training dataset is relatively small. \n",
    "\n",
    "# 4. Model Refinement (Complete or Incomplete)\n",
    "\n",
    "In this last section, you'll work on improving your model. There are many ways to do this, but here are a few ideas to get you started:\n",
    "\n",
    "* Use pre-trained embeddings: the code below will help you to load pre-trained embeddings through Keras. \n",
    "* Experiment with different model architectures, including the number of layers, the number of units in each layer, and the use of dropout layers.\n",
    "* Train your model for longer. You can also experiment with different batch sizes.\n",
    "\n",
    "Implement and test out at least one of these ideas. If you have other ideas for improving the model, feel free to try them out as well."
   ]
  },
  {
   "cell_type": "code",
   "execution_count": 164,
   "id": "dda8b0f845c20862",
   "metadata": {
    "collapsed": false
   },
   "outputs": [
    {
     "name": "stderr",
     "output_type": "stream",
     "text": [
      "'wget' is not recognized as an internal or external command,\n",
      "operable program or batch file.\n",
      "unzip:  cannot find or open glove.6B.zip, glove.6B.zip.zip or glove.6B.zip.ZIP.\n"
     ]
    }
   ],
   "source": [
    "!wget https://downloads.cs.stanford.edu/nlp/data/glove.6B.zip\n",
    "!unzip glove.6B.zip"
   ]
  },
  {
   "cell_type": "code",
   "execution_count": 165,
   "id": "e8b777220505635",
   "metadata": {
    "collapsed": false
   },
   "outputs": [
    {
     "name": "stdout",
     "output_type": "stream",
     "text": [
      "'glove.6B.100d.txt' File not found. Please make sure you have ran the previous cell.\n"
     ]
    }
   ],
   "source": [
    "# Load the pre-trained embeddings\n",
    "embeddings_index = {}\n",
    "try:\n",
    "    with open('glove.6B.100d.txt', encoding='utf-8') as f:\n",
    "        for line in f:\n",
    "            values = line.split()\n",
    "            word = values[0]\n",
    "            coefs = np.asarray(values[1:], dtype='float32')\n",
    "            embeddings_index[word] = coefs\n",
    "    print(f'Found {len(embeddings_index)} word vectors.')\n",
    "except FileNotFoundError:\n",
    "    print(\"'glove.6B.100d.txt' File not found. Please make sure you have ran the previous cell.\")"
   ]
  },
  {
   "cell_type": "code",
   "execution_count": 143,
   "id": "d3e48ff004757cf2",
   "metadata": {
    "collapsed": false
   },
   "outputs": [],
   "source": [
    "# Check if VOCAB_SIZE is set\n",
    "if VOCAB_SIZE is None:\n",
    "    print(\"You need to complete the previous parts of your assignment in order for this to work.\")\n",
    "else:\n",
    "    # Create an embedding matrix\n",
    "    embedding_matrix = np.zeros((VOCAB_SIZE, 100))\n",
    "    for word, i in tokenizer.word_index.items():\n",
    "        if i < VOCAB_SIZE:\n",
    "            embedding_vector = embeddings_index.get(word)\n",
    "            if embedding_vector is not None:\n",
    "                embedding_matrix[i] = embedding_vector"
   ]
  },
  {
   "cell_type": "code",
   "execution_count": 144,
   "id": "e3d21d5dbbbcf9f9",
   "metadata": {
    "collapsed": false
   },
   "outputs": [
    {
     "name": "stderr",
     "output_type": "stream",
     "text": [
      "c:\\Users\\user\\miniconda3\\envs\\dsi_participant\\lib\\site-packages\\keras\\src\\layers\\core\\embedding.py:90: UserWarning: Argument `input_length` is deprecated. Just remove it.\n",
      "  warnings.warn(\n"
     ]
    }
   ],
   "source": [
    "# Check if VOCAB_SIZE is set\n",
    "if VOCAB_SIZE is None:\n",
    "    print(\"You need to complete the previous parts of your assignment in order for this to work.\")\n",
    "else:\n",
    "    embedding_layer = Embedding(\n",
    "        VOCAB_SIZE, 100, weights=[embedding_matrix], input_length=SEQ_LENGTH, trainable=False\n",
    "    )"
   ]
  },
  {
   "cell_type": "code",
   "execution_count": 167,
   "id": "236cb723e4e5b3fc",
   "metadata": {
    "collapsed": false
   },
   "outputs": [
    {
     "data": {
      "text/html": [
       "<pre style=\"white-space:pre;overflow-x:auto;line-height:normal;font-family:Menlo,'DejaVu Sans Mono',consolas,'Courier New',monospace\"><span style=\"font-weight: bold\">Model: \"sequential_16\"</span>\n",
       "</pre>\n"
      ],
      "text/plain": [
       "\u001b[1mModel: \"sequential_16\"\u001b[0m\n"
      ]
     },
     "metadata": {},
     "output_type": "display_data"
    },
    {
     "data": {
      "text/html": [
       "<pre style=\"white-space:pre;overflow-x:auto;line-height:normal;font-family:Menlo,'DejaVu Sans Mono',consolas,'Courier New',monospace\">┏━━━━━━━━━━━━━━━━━━━━━━━━━━━━━━━━━┳━━━━━━━━━━━━━━━━━━━━━━━━┳━━━━━━━━━━━━━━━┓\n",
       "┃<span style=\"font-weight: bold\"> Layer (type)                    </span>┃<span style=\"font-weight: bold\"> Output Shape           </span>┃<span style=\"font-weight: bold\">       Param # </span>┃\n",
       "┡━━━━━━━━━━━━━━━━━━━━━━━━━━━━━━━━━╇━━━━━━━━━━━━━━━━━━━━━━━━╇━━━━━━━━━━━━━━━┩\n",
       "│ embedding_16 (<span style=\"color: #0087ff; text-decoration-color: #0087ff\">Embedding</span>)        │ ?                      │         <span style=\"color: #00af00; text-decoration-color: #00af00\">5,000</span> │\n",
       "├─────────────────────────────────┼────────────────────────┼───────────────┤\n",
       "│ lstm_30 (<span style=\"color: #0087ff; text-decoration-color: #0087ff\">LSTM</span>)                  │ ?                      │   <span style=\"color: #00af00; text-decoration-color: #00af00\">0</span> (unbuilt) │\n",
       "├─────────────────────────────────┼────────────────────────┼───────────────┤\n",
       "│ dropout (<span style=\"color: #0087ff; text-decoration-color: #0087ff\">Dropout</span>)               │ ?                      │             <span style=\"color: #00af00; text-decoration-color: #00af00\">0</span> │\n",
       "├─────────────────────────────────┼────────────────────────┼───────────────┤\n",
       "│ lstm_31 (<span style=\"color: #0087ff; text-decoration-color: #0087ff\">LSTM</span>)                  │ ?                      │   <span style=\"color: #00af00; text-decoration-color: #00af00\">0</span> (unbuilt) │\n",
       "├─────────────────────────────────┼────────────────────────┼───────────────┤\n",
       "│ dropout_1 (<span style=\"color: #0087ff; text-decoration-color: #0087ff\">Dropout</span>)             │ ?                      │             <span style=\"color: #00af00; text-decoration-color: #00af00\">0</span> │\n",
       "├─────────────────────────────────┼────────────────────────┼───────────────┤\n",
       "│ dense_16 (<span style=\"color: #0087ff; text-decoration-color: #0087ff\">Dense</span>)                │ ?                      │   <span style=\"color: #00af00; text-decoration-color: #00af00\">0</span> (unbuilt) │\n",
       "├─────────────────────────────────┼────────────────────────┼───────────────┤\n",
       "│ dropout_2 (<span style=\"color: #0087ff; text-decoration-color: #0087ff\">Dropout</span>)             │ ?                      │             <span style=\"color: #00af00; text-decoration-color: #00af00\">0</span> │\n",
       "├─────────────────────────────────┼────────────────────────┼───────────────┤\n",
       "│ dense_17 (<span style=\"color: #0087ff; text-decoration-color: #0087ff\">Dense</span>)                │ ?                      │   <span style=\"color: #00af00; text-decoration-color: #00af00\">0</span> (unbuilt) │\n",
       "└─────────────────────────────────┴────────────────────────┴───────────────┘\n",
       "</pre>\n"
      ],
      "text/plain": [
       "┏━━━━━━━━━━━━━━━━━━━━━━━━━━━━━━━━━┳━━━━━━━━━━━━━━━━━━━━━━━━┳━━━━━━━━━━━━━━━┓\n",
       "┃\u001b[1m \u001b[0m\u001b[1mLayer (type)                   \u001b[0m\u001b[1m \u001b[0m┃\u001b[1m \u001b[0m\u001b[1mOutput Shape          \u001b[0m\u001b[1m \u001b[0m┃\u001b[1m \u001b[0m\u001b[1m      Param #\u001b[0m\u001b[1m \u001b[0m┃\n",
       "┡━━━━━━━━━━━━━━━━━━━━━━━━━━━━━━━━━╇━━━━━━━━━━━━━━━━━━━━━━━━╇━━━━━━━━━━━━━━━┩\n",
       "│ embedding_16 (\u001b[38;5;33mEmbedding\u001b[0m)        │ ?                      │         \u001b[38;5;34m5,000\u001b[0m │\n",
       "├─────────────────────────────────┼────────────────────────┼───────────────┤\n",
       "│ lstm_30 (\u001b[38;5;33mLSTM\u001b[0m)                  │ ?                      │   \u001b[38;5;34m0\u001b[0m (unbuilt) │\n",
       "├─────────────────────────────────┼────────────────────────┼───────────────┤\n",
       "│ dropout (\u001b[38;5;33mDropout\u001b[0m)               │ ?                      │             \u001b[38;5;34m0\u001b[0m │\n",
       "├─────────────────────────────────┼────────────────────────┼───────────────┤\n",
       "│ lstm_31 (\u001b[38;5;33mLSTM\u001b[0m)                  │ ?                      │   \u001b[38;5;34m0\u001b[0m (unbuilt) │\n",
       "├─────────────────────────────────┼────────────────────────┼───────────────┤\n",
       "│ dropout_1 (\u001b[38;5;33mDropout\u001b[0m)             │ ?                      │             \u001b[38;5;34m0\u001b[0m │\n",
       "├─────────────────────────────────┼────────────────────────┼───────────────┤\n",
       "│ dense_16 (\u001b[38;5;33mDense\u001b[0m)                │ ?                      │   \u001b[38;5;34m0\u001b[0m (unbuilt) │\n",
       "├─────────────────────────────────┼────────────────────────┼───────────────┤\n",
       "│ dropout_2 (\u001b[38;5;33mDropout\u001b[0m)             │ ?                      │             \u001b[38;5;34m0\u001b[0m │\n",
       "├─────────────────────────────────┼────────────────────────┼───────────────┤\n",
       "│ dense_17 (\u001b[38;5;33mDense\u001b[0m)                │ ?                      │   \u001b[38;5;34m0\u001b[0m (unbuilt) │\n",
       "└─────────────────────────────────┴────────────────────────┴───────────────┘\n"
      ]
     },
     "metadata": {},
     "output_type": "display_data"
    },
    {
     "data": {
      "text/html": [
       "<pre style=\"white-space:pre;overflow-x:auto;line-height:normal;font-family:Menlo,'DejaVu Sans Mono',consolas,'Courier New',monospace\"><span style=\"font-weight: bold\"> Total params: </span><span style=\"color: #00af00; text-decoration-color: #00af00\">5,000</span> (19.53 KB)\n",
       "</pre>\n"
      ],
      "text/plain": [
       "\u001b[1m Total params: \u001b[0m\u001b[38;5;34m5,000\u001b[0m (19.53 KB)\n"
      ]
     },
     "metadata": {},
     "output_type": "display_data"
    },
    {
     "data": {
      "text/html": [
       "<pre style=\"white-space:pre;overflow-x:auto;line-height:normal;font-family:Menlo,'DejaVu Sans Mono',consolas,'Courier New',monospace\"><span style=\"font-weight: bold\"> Trainable params: </span><span style=\"color: #00af00; text-decoration-color: #00af00\">0</span> (0.00 B)\n",
       "</pre>\n"
      ],
      "text/plain": [
       "\u001b[1m Trainable params: \u001b[0m\u001b[38;5;34m0\u001b[0m (0.00 B)\n"
      ]
     },
     "metadata": {},
     "output_type": "display_data"
    },
    {
     "data": {
      "text/html": [
       "<pre style=\"white-space:pre;overflow-x:auto;line-height:normal;font-family:Menlo,'DejaVu Sans Mono',consolas,'Courier New',monospace\"><span style=\"font-weight: bold\"> Non-trainable params: </span><span style=\"color: #00af00; text-decoration-color: #00af00\">5,000</span> (19.53 KB)\n",
       "</pre>\n"
      ],
      "text/plain": [
       "\u001b[1m Non-trainable params: \u001b[0m\u001b[38;5;34m5,000\u001b[0m (19.53 KB)\n"
      ]
     },
     "metadata": {},
     "output_type": "display_data"
    }
   ],
   "source": [
    "# Define a new model and train it\n",
    "\n",
    "from keras.models import Sequential\n",
    "from keras.layers import Embedding, LSTM, Dense, Dropout\n",
    "\n",
    "# Define the new model\n",
    "model = Sequential()\n",
    "\n",
    "# Embedding layer with pre-trained GloVe weights\n",
    "embedding_layer = Embedding(\n",
    "    input_dim=VOCAB_SIZE, \n",
    "    output_dim=100, \n",
    "    weights=[embedding_matrix], \n",
    "    input_length=SEQ_LENGTH, \n",
    "    trainable=False\n",
    ")\n",
    "model.add(embedding_layer)\n",
    "\n",
    "# LSTM layer with dropout for regularization\n",
    "model.add(LSTM(128, return_sequences=True))\n",
    "model.add(Dropout(0.2))\n",
    "\n",
    "# Additional LSTM layer\n",
    "model.add(LSTM(128))\n",
    "model.add(Dropout(0.2))\n",
    "\n",
    "# Fully connected dense layer\n",
    "model.add(Dense(128, activation='relu'))\n",
    "model.add(Dropout(0.2))\n",
    "\n",
    "# Output layer\n",
    "model.add(Dense(VOCAB_SIZE, activation='softmax'))\n",
    "\n",
    "# Compile the model\n",
    "model.compile(optimizer='adam', loss='categorical_crossentropy', metrics=['accuracy'])\n",
    "\n",
    "model.summary()\n"
   ]
  },
  {
   "cell_type": "code",
   "execution_count": 173,
   "id": "1bb4eb81",
   "metadata": {},
   "outputs": [
    {
     "data": {
      "text/html": [
       "<pre style=\"white-space:pre;overflow-x:auto;line-height:normal;font-family:Menlo,'DejaVu Sans Mono',consolas,'Courier New',monospace\"><span style=\"font-weight: bold\">Model: \"sequential_20\"</span>\n",
       "</pre>\n"
      ],
      "text/plain": [
       "\u001b[1mModel: \"sequential_20\"\u001b[0m\n"
      ]
     },
     "metadata": {},
     "output_type": "display_data"
    },
    {
     "data": {
      "text/html": [
       "<pre style=\"white-space:pre;overflow-x:auto;line-height:normal;font-family:Menlo,'DejaVu Sans Mono',consolas,'Courier New',monospace\">┏━━━━━━━━━━━━━━━━━━━━━━━━━━━━━━━━━┳━━━━━━━━━━━━━━━━━━━━━━━━┳━━━━━━━━━━━━━━━┓\n",
       "┃<span style=\"font-weight: bold\"> Layer (type)                    </span>┃<span style=\"font-weight: bold\"> Output Shape           </span>┃<span style=\"font-weight: bold\">       Param # </span>┃\n",
       "┡━━━━━━━━━━━━━━━━━━━━━━━━━━━━━━━━━╇━━━━━━━━━━━━━━━━━━━━━━━━╇━━━━━━━━━━━━━━━┩\n",
       "│ embedding_20 (<span style=\"color: #0087ff; text-decoration-color: #0087ff\">Embedding</span>)        │ ?                      │         <span style=\"color: #00af00; text-decoration-color: #00af00\">5,000</span> │\n",
       "├─────────────────────────────────┼────────────────────────┼───────────────┤\n",
       "│ lstm_38 (<span style=\"color: #0087ff; text-decoration-color: #0087ff\">LSTM</span>)                  │ ?                      │   <span style=\"color: #00af00; text-decoration-color: #00af00\">0</span> (unbuilt) │\n",
       "├─────────────────────────────────┼────────────────────────┼───────────────┤\n",
       "│ dropout_12 (<span style=\"color: #0087ff; text-decoration-color: #0087ff\">Dropout</span>)            │ ?                      │             <span style=\"color: #00af00; text-decoration-color: #00af00\">0</span> │\n",
       "├─────────────────────────────────┼────────────────────────┼───────────────┤\n",
       "│ lstm_39 (<span style=\"color: #0087ff; text-decoration-color: #0087ff\">LSTM</span>)                  │ ?                      │   <span style=\"color: #00af00; text-decoration-color: #00af00\">0</span> (unbuilt) │\n",
       "├─────────────────────────────────┼────────────────────────┼───────────────┤\n",
       "│ dropout_13 (<span style=\"color: #0087ff; text-decoration-color: #0087ff\">Dropout</span>)            │ ?                      │             <span style=\"color: #00af00; text-decoration-color: #00af00\">0</span> │\n",
       "├─────────────────────────────────┼────────────────────────┼───────────────┤\n",
       "│ dense_24 (<span style=\"color: #0087ff; text-decoration-color: #0087ff\">Dense</span>)                │ ?                      │   <span style=\"color: #00af00; text-decoration-color: #00af00\">0</span> (unbuilt) │\n",
       "├─────────────────────────────────┼────────────────────────┼───────────────┤\n",
       "│ dropout_14 (<span style=\"color: #0087ff; text-decoration-color: #0087ff\">Dropout</span>)            │ ?                      │             <span style=\"color: #00af00; text-decoration-color: #00af00\">0</span> │\n",
       "├─────────────────────────────────┼────────────────────────┼───────────────┤\n",
       "│ dense_25 (<span style=\"color: #0087ff; text-decoration-color: #0087ff\">Dense</span>)                │ ?                      │   <span style=\"color: #00af00; text-decoration-color: #00af00\">0</span> (unbuilt) │\n",
       "└─────────────────────────────────┴────────────────────────┴───────────────┘\n",
       "</pre>\n"
      ],
      "text/plain": [
       "┏━━━━━━━━━━━━━━━━━━━━━━━━━━━━━━━━━┳━━━━━━━━━━━━━━━━━━━━━━━━┳━━━━━━━━━━━━━━━┓\n",
       "┃\u001b[1m \u001b[0m\u001b[1mLayer (type)                   \u001b[0m\u001b[1m \u001b[0m┃\u001b[1m \u001b[0m\u001b[1mOutput Shape          \u001b[0m\u001b[1m \u001b[0m┃\u001b[1m \u001b[0m\u001b[1m      Param #\u001b[0m\u001b[1m \u001b[0m┃\n",
       "┡━━━━━━━━━━━━━━━━━━━━━━━━━━━━━━━━━╇━━━━━━━━━━━━━━━━━━━━━━━━╇━━━━━━━━━━━━━━━┩\n",
       "│ embedding_20 (\u001b[38;5;33mEmbedding\u001b[0m)        │ ?                      │         \u001b[38;5;34m5,000\u001b[0m │\n",
       "├─────────────────────────────────┼────────────────────────┼───────────────┤\n",
       "│ lstm_38 (\u001b[38;5;33mLSTM\u001b[0m)                  │ ?                      │   \u001b[38;5;34m0\u001b[0m (unbuilt) │\n",
       "├─────────────────────────────────┼────────────────────────┼───────────────┤\n",
       "│ dropout_12 (\u001b[38;5;33mDropout\u001b[0m)            │ ?                      │             \u001b[38;5;34m0\u001b[0m │\n",
       "├─────────────────────────────────┼────────────────────────┼───────────────┤\n",
       "│ lstm_39 (\u001b[38;5;33mLSTM\u001b[0m)                  │ ?                      │   \u001b[38;5;34m0\u001b[0m (unbuilt) │\n",
       "├─────────────────────────────────┼────────────────────────┼───────────────┤\n",
       "│ dropout_13 (\u001b[38;5;33mDropout\u001b[0m)            │ ?                      │             \u001b[38;5;34m0\u001b[0m │\n",
       "├─────────────────────────────────┼────────────────────────┼───────────────┤\n",
       "│ dense_24 (\u001b[38;5;33mDense\u001b[0m)                │ ?                      │   \u001b[38;5;34m0\u001b[0m (unbuilt) │\n",
       "├─────────────────────────────────┼────────────────────────┼───────────────┤\n",
       "│ dropout_14 (\u001b[38;5;33mDropout\u001b[0m)            │ ?                      │             \u001b[38;5;34m0\u001b[0m │\n",
       "├─────────────────────────────────┼────────────────────────┼───────────────┤\n",
       "│ dense_25 (\u001b[38;5;33mDense\u001b[0m)                │ ?                      │   \u001b[38;5;34m0\u001b[0m (unbuilt) │\n",
       "└─────────────────────────────────┴────────────────────────┴───────────────┘\n"
      ]
     },
     "metadata": {},
     "output_type": "display_data"
    },
    {
     "data": {
      "text/html": [
       "<pre style=\"white-space:pre;overflow-x:auto;line-height:normal;font-family:Menlo,'DejaVu Sans Mono',consolas,'Courier New',monospace\"><span style=\"font-weight: bold\"> Total params: </span><span style=\"color: #00af00; text-decoration-color: #00af00\">5,000</span> (19.53 KB)\n",
       "</pre>\n"
      ],
      "text/plain": [
       "\u001b[1m Total params: \u001b[0m\u001b[38;5;34m5,000\u001b[0m (19.53 KB)\n"
      ]
     },
     "metadata": {},
     "output_type": "display_data"
    },
    {
     "data": {
      "text/html": [
       "<pre style=\"white-space:pre;overflow-x:auto;line-height:normal;font-family:Menlo,'DejaVu Sans Mono',consolas,'Courier New',monospace\"><span style=\"font-weight: bold\"> Trainable params: </span><span style=\"color: #00af00; text-decoration-color: #00af00\">0</span> (0.00 B)\n",
       "</pre>\n"
      ],
      "text/plain": [
       "\u001b[1m Trainable params: \u001b[0m\u001b[38;5;34m0\u001b[0m (0.00 B)\n"
      ]
     },
     "metadata": {},
     "output_type": "display_data"
    },
    {
     "data": {
      "text/html": [
       "<pre style=\"white-space:pre;overflow-x:auto;line-height:normal;font-family:Menlo,'DejaVu Sans Mono',consolas,'Courier New',monospace\"><span style=\"font-weight: bold\"> Non-trainable params: </span><span style=\"color: #00af00; text-decoration-color: #00af00\">5,000</span> (19.53 KB)\n",
       "</pre>\n"
      ],
      "text/plain": [
       "\u001b[1m Non-trainable params: \u001b[0m\u001b[38;5;34m5,000\u001b[0m (19.53 KB)\n"
      ]
     },
     "metadata": {},
     "output_type": "display_data"
    }
   ],
   "source": [
    "from keras.models import Sequential\n",
    "from keras.layers import Embedding, LSTM, Dense, Dropout\n",
    "from keras.callbacks import EarlyStopping, ModelCheckpoint\n",
    "from keras.optimizers import Adam\n",
    "\n",
    "# Define the improved model\n",
    "def create_improved_model(vocab_size, seq_length, embedding_matrix):\n",
    "    model = Sequential()\n",
    "    # Embedding layer with pre-trained GloVe weights\n",
    "    model.add(Embedding(\n",
    "        input_dim=vocab_size,\n",
    "        output_dim=100,\n",
    "        weights=[embedding_matrix],\n",
    "        input_length=seq_length,\n",
    "        trainable=False\n",
    "    ))\n",
    "    # LSTM layers with increased size and dropout\n",
    "    model.add(LSTM(256, return_sequences=True))\n",
    "    model.add(Dropout(0.3))\n",
    "    model.add(LSTM(256))\n",
    "    model.add(Dropout(0.3))\n",
    "    # Fully connected dense layers\n",
    "    model.add(Dense(256, activation='relu'))\n",
    "    model.add(Dropout(0.3))\n",
    "    model.add(Dense(vocab_size, activation='softmax'))\n",
    "    # Compile with a tuned optimizer\n",
    "    model.compile(optimizer=Adam(learning_rate=0.001), \n",
    "                  loss='categorical_crossentropy', \n",
    "                  metrics=['accuracy'])\n",
    "    return model\n",
    "\n",
    "# Create the model\n",
    "model = create_improved_model(VOCAB_SIZE, SEQ_LENGTH, embedding_matrix)\n",
    "\n",
    "# Callbacks for early stopping and saving the best model\n",
    "callbacks = [\n",
    "    EarlyStopping(monitor='val_loss', patience=3, restore_best_weights=True),\n",
    "    ModelCheckpoint('best_model.keras', monitor='val_loss', save_best_only=True)\n",
    "]\n",
    "\n",
    "model.summary()"
   ]
  },
  {
   "cell_type": "code",
   "execution_count": 174,
   "id": "2a10eda5",
   "metadata": {},
   "outputs": [
    {
     "name": "stdout",
     "output_type": "stream",
     "text": [
      "Epoch 1/30\n",
      "\u001b[1m27/27\u001b[0m \u001b[32m━━━━━━━━━━━━━━━━━━━━\u001b[0m\u001b[37m\u001b[0m \u001b[1m21s\u001b[0m 503ms/step - accuracy: 0.0583 - loss: 3.9100 - val_accuracy: 0.0609 - val_loss: 3.9038\n",
      "Epoch 2/30\n",
      "\u001b[1m27/27\u001b[0m \u001b[32m━━━━━━━━━━━━━━━━━━━━\u001b[0m\u001b[37m\u001b[0m \u001b[1m12s\u001b[0m 441ms/step - accuracy: 0.0624 - loss: 3.9007 - val_accuracy: 0.0609 - val_loss: 3.8962\n",
      "Epoch 3/30\n",
      "\u001b[1m27/27\u001b[0m \u001b[32m━━━━━━━━━━━━━━━━━━━━\u001b[0m\u001b[37m\u001b[0m \u001b[1m12s\u001b[0m 433ms/step - accuracy: 0.0644 - loss: 3.8920 - val_accuracy: 0.0609 - val_loss: 3.8891\n",
      "Epoch 4/30\n",
      "\u001b[1m27/27\u001b[0m \u001b[32m━━━━━━━━━━━━━━━━━━━━\u001b[0m\u001b[37m\u001b[0m \u001b[1m12s\u001b[0m 442ms/step - accuracy: 0.0692 - loss: 3.8838 - val_accuracy: 0.0609 - val_loss: 3.8820\n",
      "Epoch 5/30\n",
      "\u001b[1m27/27\u001b[0m \u001b[32m━━━━━━━━━━━━━━━━━━━━\u001b[0m\u001b[37m\u001b[0m \u001b[1m20s\u001b[0m 427ms/step - accuracy: 0.0646 - loss: 3.8765 - val_accuracy: 0.0609 - val_loss: 3.8755\n",
      "Epoch 6/30\n",
      "\u001b[1m27/27\u001b[0m \u001b[32m━━━━━━━━━━━━━━━━━━━━\u001b[0m\u001b[37m\u001b[0m \u001b[1m12s\u001b[0m 434ms/step - accuracy: 0.0751 - loss: 3.8669 - val_accuracy: 0.0609 - val_loss: 3.8691\n",
      "Epoch 7/30\n",
      "\u001b[1m27/27\u001b[0m \u001b[32m━━━━━━━━━━━━━━━━━━━━\u001b[0m\u001b[37m\u001b[0m \u001b[1m12s\u001b[0m 431ms/step - accuracy: 0.0707 - loss: 3.8606 - val_accuracy: 0.0609 - val_loss: 3.8632\n",
      "Epoch 8/30\n",
      "\u001b[1m27/27\u001b[0m \u001b[32m━━━━━━━━━━━━━━━━━━━━\u001b[0m\u001b[37m\u001b[0m \u001b[1m20s\u001b[0m 424ms/step - accuracy: 0.0742 - loss: 3.8540 - val_accuracy: 0.0609 - val_loss: 3.8575\n",
      "Epoch 9/30\n",
      "\u001b[1m27/27\u001b[0m \u001b[32m━━━━━━━━━━━━━━━━━━━━\u001b[0m\u001b[37m\u001b[0m \u001b[1m12s\u001b[0m 429ms/step - accuracy: 0.0598 - loss: 3.8443 - val_accuracy: 0.0609 - val_loss: 3.8519\n",
      "Epoch 10/30\n",
      "\u001b[1m27/27\u001b[0m \u001b[32m━━━━━━━━━━━━━━━━━━━━\u001b[0m\u001b[37m\u001b[0m \u001b[1m20s\u001b[0m 423ms/step - accuracy: 0.0621 - loss: 3.8430 - val_accuracy: 0.0609 - val_loss: 3.8466\n",
      "Epoch 11/30\n",
      "\u001b[1m27/27\u001b[0m \u001b[32m━━━━━━━━━━━━━━━━━━━━\u001b[0m\u001b[37m\u001b[0m \u001b[1m12s\u001b[0m 440ms/step - accuracy: 0.0713 - loss: 3.8345 - val_accuracy: 0.0609 - val_loss: 3.8419\n",
      "Epoch 12/30\n",
      "\u001b[1m27/27\u001b[0m \u001b[32m━━━━━━━━━━━━━━━━━━━━\u001b[0m\u001b[37m\u001b[0m \u001b[1m20s\u001b[0m 426ms/step - accuracy: 0.0673 - loss: 3.8250 - val_accuracy: 0.0609 - val_loss: 3.8369\n",
      "Epoch 13/30\n",
      "\u001b[1m27/27\u001b[0m \u001b[32m━━━━━━━━━━━━━━━━━━━━\u001b[0m\u001b[37m\u001b[0m \u001b[1m21s\u001b[0m 425ms/step - accuracy: 0.0728 - loss: 3.8225 - val_accuracy: 0.0609 - val_loss: 3.8326\n",
      "Epoch 14/30\n",
      "\u001b[1m27/27\u001b[0m \u001b[32m━━━━━━━━━━━━━━━━━━━━\u001b[0m\u001b[37m\u001b[0m \u001b[1m21s\u001b[0m 425ms/step - accuracy: 0.0643 - loss: 3.8167 - val_accuracy: 0.0609 - val_loss: 3.8281\n",
      "Epoch 15/30\n",
      "\u001b[1m27/27\u001b[0m \u001b[32m━━━━━━━━━━━━━━━━━━━━\u001b[0m\u001b[37m\u001b[0m \u001b[1m12s\u001b[0m 443ms/step - accuracy: 0.0595 - loss: 3.8097 - val_accuracy: 0.0609 - val_loss: 3.8239\n",
      "Epoch 16/30\n",
      "\u001b[1m27/27\u001b[0m \u001b[32m━━━━━━━━━━━━━━━━━━━━\u001b[0m\u001b[37m\u001b[0m \u001b[1m12s\u001b[0m 439ms/step - accuracy: 0.0666 - loss: 3.8033 - val_accuracy: 0.0609 - val_loss: 3.8201\n",
      "Epoch 17/30\n",
      "\u001b[1m27/27\u001b[0m \u001b[32m━━━━━━━━━━━━━━━━━━━━\u001b[0m\u001b[37m\u001b[0m \u001b[1m20s\u001b[0m 432ms/step - accuracy: 0.0670 - loss: 3.7989 - val_accuracy: 0.0609 - val_loss: 3.8165\n",
      "Epoch 18/30\n",
      "\u001b[1m27/27\u001b[0m \u001b[32m━━━━━━━━━━━━━━━━━━━━\u001b[0m\u001b[37m\u001b[0m \u001b[1m21s\u001b[0m 425ms/step - accuracy: 0.0758 - loss: 3.7968 - val_accuracy: 0.0609 - val_loss: 3.8129\n",
      "Epoch 19/30\n",
      "\u001b[1m27/27\u001b[0m \u001b[32m━━━━━━━━━━━━━━━━━━━━\u001b[0m\u001b[37m\u001b[0m \u001b[1m21s\u001b[0m 424ms/step - accuracy: 0.0652 - loss: 3.7946 - val_accuracy: 0.0609 - val_loss: 3.8096\n",
      "Epoch 20/30\n",
      "\u001b[1m27/27\u001b[0m \u001b[32m━━━━━━━━━━━━━━━━━━━━\u001b[0m\u001b[37m\u001b[0m \u001b[1m12s\u001b[0m 435ms/step - accuracy: 0.0652 - loss: 3.7940 - val_accuracy: 0.0609 - val_loss: 3.8065\n",
      "Epoch 21/30\n",
      "\u001b[1m27/27\u001b[0m \u001b[32m━━━━━━━━━━━━━━━━━━━━\u001b[0m\u001b[37m\u001b[0m \u001b[1m21s\u001b[0m 433ms/step - accuracy: 0.0649 - loss: 3.7893 - val_accuracy: 0.0609 - val_loss: 3.8035\n",
      "Epoch 22/30\n",
      "\u001b[1m27/27\u001b[0m \u001b[32m━━━━━━━━━━━━━━━━━━━━\u001b[0m\u001b[37m\u001b[0m \u001b[1m12s\u001b[0m 452ms/step - accuracy: 0.0639 - loss: 3.7813 - val_accuracy: 0.0609 - val_loss: 3.8005\n",
      "Epoch 23/30\n",
      "\u001b[1m27/27\u001b[0m \u001b[32m━━━━━━━━━━━━━━━━━━━━\u001b[0m\u001b[37m\u001b[0m \u001b[1m12s\u001b[0m 440ms/step - accuracy: 0.0727 - loss: 3.7801 - val_accuracy: 0.0609 - val_loss: 3.7978\n",
      "Epoch 24/30\n",
      "\u001b[1m27/27\u001b[0m \u001b[32m━━━━━━━━━━━━━━━━━━━━\u001b[0m\u001b[37m\u001b[0m \u001b[1m12s\u001b[0m 426ms/step - accuracy: 0.0668 - loss: 3.7812 - val_accuracy: 0.0609 - val_loss: 3.7950\n",
      "Epoch 25/30\n",
      "\u001b[1m27/27\u001b[0m \u001b[32m━━━━━━━━━━━━━━━━━━━━\u001b[0m\u001b[37m\u001b[0m \u001b[1m14s\u001b[0m 541ms/step - accuracy: 0.0584 - loss: 3.7823 - val_accuracy: 0.0609 - val_loss: 3.7926\n",
      "Epoch 26/30\n",
      "\u001b[1m27/27\u001b[0m \u001b[32m━━━━━━━━━━━━━━━━━━━━\u001b[0m\u001b[37m\u001b[0m \u001b[1m17s\u001b[0m 408ms/step - accuracy: 0.0678 - loss: 3.7711 - val_accuracy: 0.0609 - val_loss: 3.7903\n",
      "Epoch 27/30\n",
      "\u001b[1m27/27\u001b[0m \u001b[32m━━━━━━━━━━━━━━━━━━━━\u001b[0m\u001b[37m\u001b[0m \u001b[1m21s\u001b[0m 411ms/step - accuracy: 0.0648 - loss: 3.7677 - val_accuracy: 0.0609 - val_loss: 3.7881\n",
      "Epoch 28/30\n",
      "\u001b[1m27/27\u001b[0m \u001b[32m━━━━━━━━━━━━━━━━━━━━\u001b[0m\u001b[37m\u001b[0m \u001b[1m11s\u001b[0m 421ms/step - accuracy: 0.0701 - loss: 3.7614 - val_accuracy: 0.0609 - val_loss: 3.7858\n",
      "Epoch 29/30\n",
      "\u001b[1m27/27\u001b[0m \u001b[32m━━━━━━━━━━━━━━━━━━━━\u001b[0m\u001b[37m\u001b[0m \u001b[1m12s\u001b[0m 444ms/step - accuracy: 0.0659 - loss: 3.7730 - val_accuracy: 0.0609 - val_loss: 3.7838\n",
      "Epoch 30/30\n",
      "\u001b[1m27/27\u001b[0m \u001b[32m━━━━━━━━━━━━━━━━━━━━\u001b[0m\u001b[37m\u001b[0m \u001b[1m12s\u001b[0m 448ms/step - accuracy: 0.0613 - loss: 3.7740 - val_accuracy: 0.0609 - val_loss: 3.7819\n"
     ]
    }
   ],
   "source": [
    "#Train the Refined Model\n",
    "# Train the model with a larger number of epochs\n",
    "history = model.fit(\n",
    "    X_train, y_train,\n",
    "    validation_data=(X_val, y_val),\n",
    "    epochs=30,  # Longer training for better results\n",
    "    batch_size=64,  # Smaller batch size for finer updates\n",
    "    callbacks=callbacks\n",
    ")\n"
   ]
  },
  {
   "cell_type": "code",
   "execution_count": 176,
   "id": "1653c0bd",
   "metadata": {},
   "outputs": [
    {
     "name": "stdout",
     "output_type": "stream",
     "text": [
      "Validation Loss: 3.7819, Validation Accuracy: 0.0609\n"
     ]
    }
   ],
   "source": [
    "# Evaluate the model\n",
    "loss, accuracy = model.evaluate(X_val, y_val, verbose=0)\n",
    "print(f'Validation Loss: {loss:.4f}, Validation Accuracy: {accuracy:.4f}')\n"
   ]
  },
  {
   "cell_type": "markdown",
   "id": "742095fb",
   "metadata": {},
   "source": [
    "## Criteria\n",
    "\n",
    "|Criteria|Complete|Incomplete|\n",
    "|----|----|----|\n",
    "|Task 1|The task has been completed successfully and there are no errors.|The task is still incomplete and there is at least one error.|\n",
    "|Task 2|The task has been completed successfully and there are no errors.|The task is still incomplete and there is at least one error.|\n",
    "|Task 3|The task has been completed successfully and there are no errors.|The task is still incomplete and there is at least one error.|\n",
    "|Task 4|The task has been completed successfully and there are no errors.|The task is still incomplete and there is at least one error.|"
   ]
  },
  {
   "cell_type": "markdown",
   "id": "1990e2d2",
   "metadata": {},
   "source": [
    "## Submission Information\n",
    "\n",
    "🚨**Please review our [Assignment Submission Guide](https://github.com/UofT-DSI/onboarding/blob/main/onboarding_documents/submissions.md)**🚨 for detailed instructions on how to format, branch, and submit your work. Following these guidelines is crucial for your submissions to be evaluated correctly.\n",
    "\n",
    "### Submission Parameters:\n",
    "* Submission Due Date: `HH:MM AM/PM - DD/MM/YYYY`\n",
    "* The branch name for your repo should be: `assignment-2`\n",
    "* What to submit for this assignment:\n",
    "    * This Jupyter Notebook (assignment_2.ipynb) should be populated and should be the only change in your pull request.\n",
    "* What the pull request link should look like for this assignment: `https://github.com/<your_github_username>/deep_learning/pull/<pr_id>`\n",
    "    * Open a private window in your browser. Copy and paste the link to your pull request into the address bar. Make sure you can see your pull request properly. This helps the technical facilitator and learning support staff review your submission easily.\n",
    "\n",
    "Checklist:\n",
    "- [ ] Created a branch with the correct naming convention.\n",
    "- [ ] Ensured that the repository is public.\n",
    "- [ ] Reviewed the PR description guidelines and adhered to them.\n",
    "- [ ] Verify that the link is accessible in a private browser window.\n",
    "\n",
    "If you encounter any difficulties or have questions, please don't hesitate to reach out to our team via our Slack at `#cohort-3-help`. Our Technical Facilitators and Learning Support staff are here to help you navigate any challenges."
   ]
  }
 ],
 "metadata": {
  "accelerator": "GPU",
  "colab": {
   "gpuType": "T4",
   "provenance": []
  },
  "kernelspec": {
   "display_name": "dsi_participant",
   "language": "python",
   "name": "python3"
  },
  "language_info": {
   "codemirror_mode": {
    "name": "ipython",
    "version": 3
   },
   "file_extension": ".py",
   "mimetype": "text/x-python",
   "name": "python",
   "nbconvert_exporter": "python",
   "pygments_lexer": "ipython3",
   "version": "3.9.19"
  }
 },
 "nbformat": 4,
 "nbformat_minor": 5
}
